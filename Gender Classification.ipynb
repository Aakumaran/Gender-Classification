{
 "cells": [
  {
   "cell_type": "code",
   "execution_count": 79,
   "metadata": {
    "collapsed": false
   },
   "outputs": [],
   "source": [
    "#Importing modules and dataset\n",
    "import pandas as pd\n",
    "import numpy as np\n",
    "import random\n",
    "from nltk import NaiveBayesClassifier,classify\n",
    "from sklearn.svm import LinearSVC\n",
    "from nltk.classify.scikitlearn import SklearnClassifier\n",
    "dfM = pd.read_csv('male',header=0)\n",
    "dfF = pd.read_csv('female',header=0)"
   ]
  },
  {
   "cell_type": "code",
   "execution_count": 80,
   "metadata": {
    "collapsed": false
   },
   "outputs": [],
   "source": [
    "#Completely removing samples that donot provide first name\n",
    "dfM.drop([2016,3623,12070,6385,7797,13494,10909,14196],axis=0, inplace=True)\n",
    "dfF.drop([4419,1406,3570,10347,2861,14336],axis=0,inplace=True)\n",
    "#Combining male and female dataset and shuffling the rows\n",
    "combined = pd.concat([dfM, dfF], axis = 0)\n",
    "combined = combined.iloc[(np.random.permutation(len(combined)))]\n",
    "combined.reset_index(drop = True, inplace = True)"
   ]
  },
  {
   "cell_type": "code",
   "execution_count": 81,
   "metadata": {
    "collapsed": false
   },
   "outputs": [],
   "source": [
    "#Wrangling with the dataset\n",
    "\n",
    "##Dropping the unnecessary extra column\n",
    "combined.drop('race',axis = 1, inplace =True)\n",
    "# Drop NaN (missing names)\n",
    "combined = combined.dropna(axis=0)\n",
    "\n",
    "##Removing duplicate rows\n",
    "##Dataset almost reduces to half when duplicate rows are removed\n",
    "combined = combined.drop_duplicates(subset = ['name','gender'])\n",
    "combined.reset_index(drop = True, inplace = True)\n",
    "\n",
    "## Removing @ and keeping first part\n",
    "combined.name = combined.name.map(lambda name: name.split('@')[0].strip() if(name.find('@')!=-1) else name.strip())\n",
    "\n",
    "\n",
    "##Removing titles ( they appear before dot)\n",
    "combined.name = combined.name.map(lambda name: name.strip() if(name.find('.')==-1) else name.split('.')[1].strip() if(len(name.split('.')[0].strip())<=5) else name.strip())\n",
    "\n",
    "##Removing titles (if they don't have dot)\n",
    "def checkTitle1(name):\n",
    "    title = ['j ','dr ','ku ','ku- ','k ','km ','km- ','kum ','km0 ','sant ','st ','mo ','gen ','smt ','ms ','mis ','shri ','sri ','sh ','shi ','p ','md ','gd ','m ','sk ','so ','mohd ','mho ','dd ','ed ','ct ','na ', 'miss ', 'lc ', 'smt- ', 'smts ','smt-', 'smt,','1-smt ','mo- ','gs-1957975 ','mrs ','shrimati ','a ','b ']\n",
    "    k = any(name.find(i)==0 for i in title)\n",
    "    return k\n",
    "def checkTitle2(name):\n",
    "    title = ['ku  ','kum  ','shri  ','md  ','mohd  ','smt  ','km  ']\n",
    "    k = any(name.find(i)==0 for i in title)\n",
    "    return k\n",
    "def checkTitle3(name):\n",
    "    title = ['s p ','kum a ','ct b ']\n",
    "    k = any(name.find(i)==0 for i in title)\n",
    "    return k\n",
    "combined.name = combined.name.map(lambda name: name.split('  ')[1].strip() if(checkTitle2(name)==True) else name.split(' ')[2].strip() if (checkTitle3(name)==True) else name.split(' ')[1].strip() if(checkTitle1(name)==True) else name.strip())\n",
    "\n",
    "\n",
    "##Extracting first name \n",
    "combined.name = combined.name.map(lambda name: name if(name.find(' ')==-1) else name.split()[0].strip())\n",
    "\n",
    "\n",
    "##Removing any special character associated with the first name\n",
    "combined.name = combined.name.map(lambda name: ''.join(i for i in name if i.isalpha()).strip())\n",
    "\n",
    "## Again Removing NAN rows\n",
    "combined = combined.dropna(axis=0)\n",
    "\n",
    "##Removing non english rows\n",
    "for index,row in combined.iterrows():\n",
    "    try:\n",
    "        row['name'].encode('ascii')\n",
    "    except UnicodeEncodeError:\n",
    "        combined.drop(index,axis=0,inplace=True)\n",
    "combined.reset_index(drop = True, inplace = True)\n",
    "\n",
    "##Again removing duplicate rows\n",
    "combined = combined.drop_duplicates(subset = ['name','gender'])\n",
    "combined.reset_index(drop = True, inplace = True)\n",
    "\n",
    "## copying data to csv file\n",
    "combined.to_csv('CleanedData.csv', index=False)"
   ]
  },
  {
   "cell_type": "code",
   "execution_count": 82,
   "metadata": {
    "collapsed": false
   },
   "outputs": [],
   "source": [
    "#Feature Extraction\n",
    "#Last Character\n",
    "# combined['LastChar'] = combined.name.map(lambda name: name[-1])\n",
    "\n",
    "# #Is last character A or E or I or Y\n",
    "# combined['IsLastCharAEIY'] = combined.LastChar.map(lambda name: 1 if (name=='e' or name=='i' or name=='y' or name =='a') else 0)\n",
    "\n",
    "# #Second Last Character\n",
    "# combined['SecLastChar'] = combined.name.map(lambda name: name[-2])\n",
    "\n",
    "# #Is second Last character A or E or I\n",
    "# combined['IsSecLastCharAEIY'] = combined.SecLastChar.map(lambda name: 1 if (name=='e' or name=='i' or name =='a') else 0)\n",
    "\n",
    "#No. of vowels\n",
    "def countVowels(string):\n",
    "    num_vowels=0\n",
    "    for char in string:\n",
    "        if char in \"aeiou\":\n",
    "           num_vowels = num_vowels+1\n",
    "    return num_vowels\n",
    "combined['NoOfVowels'] = combined.name.map(lambda name: countVowels(name))\n",
    "\n",
    "#Total Number of 'e', 'i' in the name\n",
    "def countEI(string):\n",
    "    num_ei=0\n",
    "    for char in string:\n",
    "        if char in \"ei\":\n",
    "           num_ei = num_ei+1\n",
    "    return num_ei\n",
    "combined['NumEI'] = combined.name.map(lambda name: countEI(name))\n",
    "\n",
    "# Length of the name:\n",
    "# combined['Length'] = combined.name.map(lambda name: len(name))"
   ]
  },
  {
   "cell_type": "code",
   "execution_count": 58,
   "metadata": {
    "collapsed": false
   },
   "outputs": [],
   "source": [
    "#Feature Visualization\n",
    "#total no. of female names = 3297\n",
    "#total no. of male names = 4024\n",
    "\n",
    "##Last character counts\n",
    "# print(combined[combined['gender']=='f'].LastChar.value_counts())\n",
    "# print(combined[combined['gender']=='m'].LastChar.value_counts())\n",
    "\n",
    "##Second Last Character Counts\n",
    "# print(combined[combined['gender']=='f'].SecLastChar.value_counts())\n",
    "# print(combined[combined['gender']=='m'].SecLastChar.value_counts())\n",
    "# combined.info()"
   ]
  },
  {
   "cell_type": "code",
   "execution_count": 85,
   "metadata": {
    "collapsed": true
   },
   "outputs": [],
   "source": [
    "def _nameFeatures(name):\n",
    "    name=name.lower()\n",
    "    return{'lastChar':name[-1],\n",
    "          'lastTwoChar':name[-2:],\n",
    "          'isLastAEIY':(name[-1] in 'aeiy'),\n",
    "          'isSecLastAEI':(name[-2] in 'aei'),\n",
    "          'NoOfVowels':countVowels(name),\n",
    "           'NumEI':countEI(name),\n",
    "           'length':len(name),\n",
    "           'firstChar':name[0]\n",
    "           }\n",
    "def extractFeatures(dataframe):\n",
    "    featureSet = list()\n",
    "    for index,row in dataframe.iterrows():\n",
    "        featureSet.append((_nameFeatures(row['name']),row['gender']))\n",
    "    return featureSet\n",
    "\n",
    "def TrainAndTestNB(dataframe):\n",
    "    featureSet = extractFeatures(dataframe)\n",
    "    random.shuffle(featureSet)\n",
    "    name_count = len(featureSet)\n",
    "    cut = int(name_count*0.80)\n",
    "    trainSet = featureSet[:cut]\n",
    "    testSet = featureSet[cut:]\n",
    "    classifier = NaiveBayesClassifier.train(trainSet)\n",
    "    print('Testing Accuracy: {} '.format(classify.accuracy(classifier,testSet)))\n",
    "    print('Most Informative Features')\n",
    "    print(classifier.show_most_informative_features(50))\n",
    "\n",
    "def TrainAndTestSVM(dataframe):\n",
    "    featureSet = extractFeatures(dataframe)\n",
    "    random.shuffle(featureSet)\n",
    "    name_count = len(featureSet)\n",
    "    cut = int(name_count*0.80)\n",
    "    trainSet = featureSet[:cut]\n",
    "    testSet = featureSet[cut:]\n",
    "    classif = SklearnClassifier(LinearSVC())\n",
    "    classifier = classif.train(trainSet)\n",
    "    print('Testing Accuracy: {} '.format(classify.accuracy(classifier,testSet)))\n"
   ]
  },
  {
   "cell_type": "code",
   "execution_count": 88,
   "metadata": {
    "collapsed": false
   },
   "outputs": [
    {
     "name": "stdout",
     "output_type": "stream",
     "text": [
      "Testing Accuracy: 0.7663934426229508 \n",
      "Most Informative Features\n",
      "Most Informative Features\n",
      "             lastTwoChar = 'th'                m : f      =     18.1 : 1.0\n",
      "             lastTwoChar = 'nt'                m : f      =     18.1 : 1.0\n",
      "             lastTwoChar = 'ad'                m : f      =     11.1 : 1.0\n",
      "                lastChar = 'd'                 m : f      =     11.0 : 1.0\n",
      "             lastTwoChar = 'if'                m : f      =     10.3 : 1.0\n",
      "             lastTwoChar = 'ka'                f : m      =      8.8 : 1.0\n",
      "             lastTwoChar = 'ta'                f : m      =      8.7 : 1.0\n",
      "             lastTwoChar = 'ib'                m : f      =      8.7 : 1.0\n",
      "             lastTwoChar = 'id'                m : f      =      8.5 : 1.0\n",
      "             lastTwoChar = 'nd'                m : f      =      8.0 : 1.0\n",
      "                lastChar = 'f'                 m : f      =      8.0 : 1.0\n",
      "             lastTwoChar = 'ba'                f : m      =      7.9 : 1.0\n",
      "             lastTwoChar = 'na'                f : m      =      7.8 : 1.0\n",
      "                lastChar = 'v'                 m : f      =      7.2 : 1.0\n",
      "             lastTwoChar = 'ia'                f : m      =      7.0 : 1.0\n",
      "                lastChar = 'q'                 m : f      =      6.9 : 1.0\n",
      "                lastChar = 'g'                 m : f      =      6.9 : 1.0\n",
      "             lastTwoChar = 'ma'                f : m      =      6.3 : 1.0\n",
      "             lastTwoChar = 'av'                m : f      =      6.2 : 1.0\n",
      "             lastTwoChar = 'ti'                f : m      =      6.2 : 1.0\n",
      "             lastTwoChar = 'ha'                f : m      =      6.0 : 1.0\n",
      "             lastTwoChar = 'od'                m : f      =      5.9 : 1.0\n",
      "             lastTwoChar = 'sa'                f : m      =      5.7 : 1.0\n",
      "             lastTwoChar = 'ir'                m : f      =      5.6 : 1.0\n",
      "             lastTwoChar = 'ik'                m : f      =      5.6 : 1.0\n",
      "             lastTwoChar = 'la'                f : m      =      5.4 : 1.0\n",
      "             lastTwoChar = 'ej'                m : f      =      5.3 : 1.0\n",
      "             lastTwoChar = 'ev'                m : f      =      5.2 : 1.0\n",
      "             lastTwoChar = 'ki'                f : m      =      5.1 : 1.0\n",
      "             lastTwoChar = 'da'                f : m      =      5.0 : 1.0\n",
      "             lastTwoChar = 'il'                m : f      =      5.0 : 1.0\n",
      "                lastChar = 'b'                 m : f      =      4.9 : 1.0\n",
      "             lastTwoChar = 'pa'                f : m      =      4.9 : 1.0\n",
      "                lastChar = 'a'                 f : m      =      4.9 : 1.0\n",
      "             lastTwoChar = 'iq'                m : f      =      4.7 : 1.0\n",
      "               firstChar = 'o'                 m : f      =      4.6 : 1.0\n",
      "             lastTwoChar = 'er'                m : f      =      4.6 : 1.0\n",
      "               firstChar = 'w'                 m : f      =      4.5 : 1.0\n",
      "             lastTwoChar = 'za'                f : m      =      4.4 : 1.0\n",
      "             lastTwoChar = 'ro'                f : m      =      4.4 : 1.0\n",
      "                lastChar = 'r'                 m : f      =      4.4 : 1.0\n",
      "             lastTwoChar = 'ar'                m : f      =      4.3 : 1.0\n",
      "             lastTwoChar = 'iv'                m : f      =      4.2 : 1.0\n",
      "             lastTwoChar = 'el'                m : f      =      4.2 : 1.0\n",
      "             lastTwoChar = 'ya'                f : m      =      4.2 : 1.0\n",
      "             lastTwoChar = 'um'                f : m      =      4.1 : 1.0\n",
      "                lastChar = 'k'                 m : f      =      4.1 : 1.0\n",
      "             lastTwoChar = 'mi'                f : m      =      4.1 : 1.0\n",
      "             lastTwoChar = 're'                m : f      =      3.9 : 1.0\n",
      "             lastTwoChar = 'kh'                m : f      =      3.9 : 1.0\n",
      "None\n",
      "Testing Accuracy: 0.7506830601092896 \n"
     ]
    }
   ],
   "source": [
    "TrainAndTestNB(combined)\n",
    "TrainAndTestSVM(combined)"
   ]
  },
  {
   "cell_type": "code",
   "execution_count": null,
   "metadata": {
    "collapsed": true
   },
   "outputs": [],
   "source": []
  }
 ],
 "metadata": {
  "anaconda-cloud": {},
  "kernelspec": {
   "display_name": "Python [default]",
   "language": "python",
   "name": "python3"
  },
  "language_info": {
   "codemirror_mode": {
    "name": "ipython",
    "version": 3
   },
   "file_extension": ".py",
   "mimetype": "text/x-python",
   "name": "python",
   "nbconvert_exporter": "python",
   "pygments_lexer": "ipython3",
   "version": "3.5.2"
  }
 },
 "nbformat": 4,
 "nbformat_minor": 1
}
