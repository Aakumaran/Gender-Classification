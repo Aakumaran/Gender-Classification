{
 "cells": [
  {
   "cell_type": "code",
   "execution_count": 287,
   "metadata": {
    "collapsed": false
   },
   "outputs": [],
   "source": [
    "#Importing modules and dataset\n",
    "import pandas as pd\n",
    "import numpy as np\n",
    "import random\n",
    "from nltk.corpus import wordnet\n",
    "dfM = pd.read_csv('male',header=0)\n",
    "dfF = pd.read_csv('female',header=0)"
   ]
  },
  {
   "cell_type": "code",
   "execution_count": 288,
   "metadata": {
    "collapsed": false
   },
   "outputs": [],
   "source": [
    "#Completely removing samples that donot provide first name\n",
    "dfM.drop([2016,3623,12070,6385,7797,13494],axis=0, inplace=True)\n",
    "dfF.drop([4419,1406,3570,10347,2861,14336],axis=0,inplace=True)\n",
    "#Combining male and female dataset and shuffling the rows\n",
    "combined = pd.concat([dfM, dfF], axis = 0)\n",
    "combined = combined.iloc[(np.random.permutation(len(combined)))]\n",
    "combined.reset_index(drop = True, inplace = True)"
   ]
  },
  {
   "cell_type": "code",
   "execution_count": 289,
   "metadata": {
    "collapsed": false
   },
   "outputs": [],
   "source": [
    "#Wrangling with the dataset\n",
    "\n",
    "\n",
    "##Dropping the unnecessary extra column\n",
    "combined.drop('race',axis = 1, inplace =True)\n",
    "# Drop NaN (missing names)\n",
    "combined = combined.dropna(axis=0)\n",
    "\n",
    "##Removing duplicate rows\n",
    "##Dataset almost reduces to half when duplicate rows are removed\n",
    "combined = combined.drop_duplicates(subset = ['name','gender'])\n",
    "combined.reset_index(drop = True, inplace = True)\n",
    "\n",
    "test =  combined\n",
    "test.to_csv('test.csv',index = False)\n",
    "## Removing @ and keeping first part\n",
    "combined.name = combined.name.map(lambda name: name.split('@')[0].strip() if(name.find('@')!=-1) else name.strip())\n",
    "\n",
    "\n",
    "##Removing titles ( they appear before dot)\n",
    "combined.name = combined.name.map(lambda name: name.strip() if(name.find('.')==-1) else name.split('.')[1].strip() if(len(name.split('.')[0].strip())<=5) else name.strip())\n",
    "\n",
    "##Removing titles (if they don't have dot)\n",
    "def checkTitle1(name):\n",
    "    title = ['ku ','ku- ','k ','km ','km- ','kum ','km0 ','sant ','st ','mo ','gen ','smt ','ms ','mis ','shri ','sri ','sh ','shi ','p ','md ','gd ','m ','sk ','so ','mohd ','mho ','dd ','ed ','ct ','na ', 'miss ', 'lc ', 'smt- ', 'smts ','smt-', 'smt,','1-smt ','mo- ','gs-1957975 ','mrs ','shrimati ','kum a ','ct b ','a ','b ']\n",
    "    k = any(name.find(i)==0 for i in title)\n",
    "    return k\n",
    "def checkTitle2(name):\n",
    "    title = ['ku  ','kum  ','shri  ','md  ','mohd  ','smt  ','km  ']\n",
    "    k = any(name.find(i)==0 for i in title)\n",
    "    return k\n",
    "combined.name = combined.name.map(lambda name: name.split('  ')[1].strip() if(checkTitle2(name)==True) else name.split(' ')[1].strip() if(checkTitle1(name)==True) else name.strip())\n",
    "\n",
    "\n",
    "##Extracting first name \n",
    "combined.name = combined.name.map(lambda name: name if(name.find(' ')==-1) else name.split()[0].strip())\n",
    "\n",
    "\n",
    "##Removing any special character associated with the first name\n",
    "combined.name = combined.name.map(lambda name: ''.join(i for i in name if i.isalpha()).strip())\n",
    "\n",
    "\n",
    "## Again Removing NAN rows\n",
    "combined = combined.dropna(axis=0)\n",
    "\n",
    "##Removing different language rows\n",
    "for index,row in combined.iterrows():\n",
    "    try:\n",
    "        row['name'].encode('ascii')\n",
    "    except UnicodeEncodeError:\n",
    "        combined.drop(index,axis=0,inplace=True)\n",
    "combined.reset_index(drop = True, inplace = True)\n",
    "\n",
    "##Again removing duplicate rows\n",
    "combined = combined.drop_duplicates(subset = ['name','gender'])\n",
    "combined.reset_index(drop = True, inplace = True)\n",
    "\n",
    "## copying data to csv file\n",
    "combined.to_csv('CleanedData.csv', index=False)"
   ]
  },
  {
   "cell_type": "code",
   "execution_count": 290,
   "metadata": {
    "collapsed": false
   },
   "outputs": [
    {
     "ename": "IndexError",
     "evalue": "string index out of range",
     "output_type": "error",
     "traceback": [
      "\u001b[0;31m---------------------------------------------------------------------------\u001b[0m",
      "\u001b[0;31mIndexError\u001b[0m                                Traceback (most recent call last)",
      "\u001b[0;32m<ipython-input-290-8bc0f888b0c1>\u001b[0m in \u001b[0;36m<module>\u001b[0;34m()\u001b[0m\n\u001b[1;32m      7\u001b[0m \u001b[1;33m\u001b[0m\u001b[0m\n\u001b[1;32m      8\u001b[0m \u001b[1;31m#Second Last Character\u001b[0m\u001b[1;33m\u001b[0m\u001b[1;33m\u001b[0m\u001b[0m\n\u001b[0;32m----> 9\u001b[0;31m \u001b[0mcombined\u001b[0m\u001b[1;33m[\u001b[0m\u001b[1;34m'SecLastChar'\u001b[0m\u001b[1;33m]\u001b[0m \u001b[1;33m=\u001b[0m \u001b[0mcombined\u001b[0m\u001b[1;33m.\u001b[0m\u001b[0mname\u001b[0m\u001b[1;33m.\u001b[0m\u001b[0mmap\u001b[0m\u001b[1;33m(\u001b[0m\u001b[1;32mlambda\u001b[0m \u001b[0mname\u001b[0m\u001b[1;33m:\u001b[0m \u001b[0mname\u001b[0m\u001b[1;33m[\u001b[0m\u001b[1;33m-\u001b[0m\u001b[1;36m2\u001b[0m\u001b[1;33m]\u001b[0m\u001b[1;33m)\u001b[0m\u001b[1;33m\u001b[0m\u001b[0m\n\u001b[0m\u001b[1;32m     10\u001b[0m \u001b[1;33m\u001b[0m\u001b[0m\n\u001b[1;32m     11\u001b[0m \u001b[1;31m#No. of vowels\u001b[0m\u001b[1;33m\u001b[0m\u001b[1;33m\u001b[0m\u001b[0m\n",
      "\u001b[0;32mC:\\Program Files\\Anaconda3\\lib\\site-packages\\pandas\\core\\series.py\u001b[0m in \u001b[0;36mmap\u001b[0;34m(self, arg, na_action)\u001b[0m\n\u001b[1;32m   2173\u001b[0m             \u001b[0mnew_values\u001b[0m \u001b[1;33m=\u001b[0m \u001b[0malgos\u001b[0m\u001b[1;33m.\u001b[0m\u001b[0mtake_1d\u001b[0m\u001b[1;33m(\u001b[0m\u001b[0marg\u001b[0m\u001b[1;33m.\u001b[0m\u001b[0m_values\u001b[0m\u001b[1;33m,\u001b[0m \u001b[0mindexer\u001b[0m\u001b[1;33m)\u001b[0m\u001b[1;33m\u001b[0m\u001b[0m\n\u001b[1;32m   2174\u001b[0m         \u001b[1;32melse\u001b[0m\u001b[1;33m:\u001b[0m\u001b[1;33m\u001b[0m\u001b[0m\n\u001b[0;32m-> 2175\u001b[0;31m             \u001b[0mnew_values\u001b[0m \u001b[1;33m=\u001b[0m \u001b[0mmap_f\u001b[0m\u001b[1;33m(\u001b[0m\u001b[0mvalues\u001b[0m\u001b[1;33m,\u001b[0m \u001b[0marg\u001b[0m\u001b[1;33m)\u001b[0m\u001b[1;33m\u001b[0m\u001b[0m\n\u001b[0m\u001b[1;32m   2176\u001b[0m \u001b[1;33m\u001b[0m\u001b[0m\n\u001b[1;32m   2177\u001b[0m         return self._constructor(new_values,\n",
      "\u001b[0;32mpandas\\src\\inference.pyx\u001b[0m in \u001b[0;36mpandas.lib.map_infer (pandas\\lib.c:63307)\u001b[0;34m()\u001b[0m\n",
      "\u001b[0;32m<ipython-input-290-8bc0f888b0c1>\u001b[0m in \u001b[0;36m<lambda>\u001b[0;34m(name)\u001b[0m\n\u001b[1;32m      7\u001b[0m \u001b[1;33m\u001b[0m\u001b[0m\n\u001b[1;32m      8\u001b[0m \u001b[1;31m#Second Last Character\u001b[0m\u001b[1;33m\u001b[0m\u001b[1;33m\u001b[0m\u001b[0m\n\u001b[0;32m----> 9\u001b[0;31m \u001b[0mcombined\u001b[0m\u001b[1;33m[\u001b[0m\u001b[1;34m'SecLastChar'\u001b[0m\u001b[1;33m]\u001b[0m \u001b[1;33m=\u001b[0m \u001b[0mcombined\u001b[0m\u001b[1;33m.\u001b[0m\u001b[0mname\u001b[0m\u001b[1;33m.\u001b[0m\u001b[0mmap\u001b[0m\u001b[1;33m(\u001b[0m\u001b[1;32mlambda\u001b[0m \u001b[0mname\u001b[0m\u001b[1;33m:\u001b[0m \u001b[0mname\u001b[0m\u001b[1;33m[\u001b[0m\u001b[1;33m-\u001b[0m\u001b[1;36m2\u001b[0m\u001b[1;33m]\u001b[0m\u001b[1;33m)\u001b[0m\u001b[1;33m\u001b[0m\u001b[0m\n\u001b[0m\u001b[1;32m     10\u001b[0m \u001b[1;33m\u001b[0m\u001b[0m\n\u001b[1;32m     11\u001b[0m \u001b[1;31m#No. of vowels\u001b[0m\u001b[1;33m\u001b[0m\u001b[1;33m\u001b[0m\u001b[0m\n",
      "\u001b[0;31mIndexError\u001b[0m: string index out of range"
     ]
    }
   ],
   "source": [
    "# Feature Extraction\n",
    "#Last Character\n",
    "combined['LastChar'] = combined.name.map(lambda name: name[-1])\n",
    "\n",
    "#Is last character E or I or Y\n",
    "combined['IsLastCharAEIY'] = combined.LastChar.map(lambda name: 1 if (name=='e' or name=='i' or name=='y' or name =='a') else 0)\n",
    "\n",
    "#Second Last Character\n",
    "combined['SecLastChar'] = combined.name.map(lambda name: name[-2])\n",
    "\n",
    "#No. of vowels\n",
    "def countVowels(string):\n",
    "    num_vowels=0\n",
    "    for char in string:\n",
    "        if char in \"aeiou\":\n",
    "           num_vowels = num_vowels+1\n",
    "    return num_vowels\n",
    "combined['NoOfVowels'] = combined.name.map(lambda name: countVowels(name))\n",
    "\n",
    "#Total Number of 'e', 'i' in the name\n",
    "def countEI(string):\n",
    "    num_ei=0\n",
    "    for char in string:\n",
    "        if char in \"ei\":\n",
    "           num_ei = num_ei+1\n",
    "    return num_ei\n",
    "combined['NumEI'] = combined.name.map(lambda name: countEI(name) )"
   ]
  },
  {
   "cell_type": "code",
   "execution_count": 280,
   "metadata": {
    "collapsed": false
   },
   "outputs": [
    {
     "ename": "AttributeError",
     "evalue": "'DataFrame' object has no attribute 'SecLastChar'",
     "output_type": "error",
     "traceback": [
      "\u001b[0;31m---------------------------------------------------------------------------\u001b[0m",
      "\u001b[0;31mAttributeError\u001b[0m                            Traceback (most recent call last)",
      "\u001b[0;32m<ipython-input-280-1fd8f8d19ea1>\u001b[0m in \u001b[0;36m<module>\u001b[0;34m()\u001b[0m\n\u001b[1;32m      8\u001b[0m \u001b[1;33m\u001b[0m\u001b[0m\n\u001b[1;32m      9\u001b[0m \u001b[1;31m##Second Last Character Counts\u001b[0m\u001b[1;33m\u001b[0m\u001b[1;33m\u001b[0m\u001b[0m\n\u001b[0;32m---> 10\u001b[0;31m \u001b[0mprint\u001b[0m\u001b[1;33m(\u001b[0m\u001b[0mcombined\u001b[0m\u001b[1;33m[\u001b[0m\u001b[0mcombined\u001b[0m\u001b[1;33m[\u001b[0m\u001b[1;34m'gender'\u001b[0m\u001b[1;33m]\u001b[0m\u001b[1;33m==\u001b[0m\u001b[1;34m'f'\u001b[0m\u001b[1;33m]\u001b[0m\u001b[1;33m.\u001b[0m\u001b[0mSecLastChar\u001b[0m\u001b[1;33m.\u001b[0m\u001b[0mvalue_counts\u001b[0m\u001b[1;33m(\u001b[0m\u001b[1;33m)\u001b[0m\u001b[1;33m)\u001b[0m\u001b[1;33m\u001b[0m\u001b[0m\n\u001b[0m\u001b[1;32m     11\u001b[0m \u001b[0mprint\u001b[0m\u001b[1;33m(\u001b[0m\u001b[0mcombined\u001b[0m\u001b[1;33m[\u001b[0m\u001b[0mcombined\u001b[0m\u001b[1;33m[\u001b[0m\u001b[1;34m'gender'\u001b[0m\u001b[1;33m]\u001b[0m\u001b[1;33m==\u001b[0m\u001b[1;34m'm'\u001b[0m\u001b[1;33m]\u001b[0m\u001b[1;33m.\u001b[0m\u001b[0mSecLastChar\u001b[0m\u001b[1;33m.\u001b[0m\u001b[0mvalue_counts\u001b[0m\u001b[1;33m(\u001b[0m\u001b[1;33m)\u001b[0m\u001b[1;33m)\u001b[0m\u001b[1;33m\u001b[0m\u001b[0m\n",
      "\u001b[0;32mC:\\Program Files\\Anaconda3\\lib\\site-packages\\pandas\\core\\generic.py\u001b[0m in \u001b[0;36m__getattr__\u001b[0;34m(self, name)\u001b[0m\n\u001b[1;32m   2742\u001b[0m             \u001b[1;32mif\u001b[0m \u001b[0mname\u001b[0m \u001b[1;32min\u001b[0m \u001b[0mself\u001b[0m\u001b[1;33m.\u001b[0m\u001b[0m_info_axis\u001b[0m\u001b[1;33m:\u001b[0m\u001b[1;33m\u001b[0m\u001b[0m\n\u001b[1;32m   2743\u001b[0m                 \u001b[1;32mreturn\u001b[0m \u001b[0mself\u001b[0m\u001b[1;33m[\u001b[0m\u001b[0mname\u001b[0m\u001b[1;33m]\u001b[0m\u001b[1;33m\u001b[0m\u001b[0m\n\u001b[0;32m-> 2744\u001b[0;31m             \u001b[1;32mreturn\u001b[0m \u001b[0mobject\u001b[0m\u001b[1;33m.\u001b[0m\u001b[0m__getattribute__\u001b[0m\u001b[1;33m(\u001b[0m\u001b[0mself\u001b[0m\u001b[1;33m,\u001b[0m \u001b[0mname\u001b[0m\u001b[1;33m)\u001b[0m\u001b[1;33m\u001b[0m\u001b[0m\n\u001b[0m\u001b[1;32m   2745\u001b[0m \u001b[1;33m\u001b[0m\u001b[0m\n\u001b[1;32m   2746\u001b[0m     \u001b[1;32mdef\u001b[0m \u001b[0m__setattr__\u001b[0m\u001b[1;33m(\u001b[0m\u001b[0mself\u001b[0m\u001b[1;33m,\u001b[0m \u001b[0mname\u001b[0m\u001b[1;33m,\u001b[0m \u001b[0mvalue\u001b[0m\u001b[1;33m)\u001b[0m\u001b[1;33m:\u001b[0m\u001b[1;33m\u001b[0m\u001b[0m\n",
      "\u001b[0;31mAttributeError\u001b[0m: 'DataFrame' object has no attribute 'SecLastChar'"
     ]
    }
   ],
   "source": [
    "#Feature Visualization\n",
    "#total no. of female names = 3297\n",
    "#total no. of male names = 4024\n",
    "\n",
    "##Last character counts\n",
    "# print(combined[combined['gender']=='f'].LastChar.value_counts())\n",
    "# print(combined[combined['gender']=='m'].LastChar.value_counts())\n",
    "\n",
    "##Second Last Character Counts\n",
    "print(combined[combined['gender']=='f'].SecLastChar.value_counts())\n",
    "print(combined[combined['gender']=='m'].SecLastChar.value_counts())\n"
   ]
  },
  {
   "cell_type": "code",
   "execution_count": null,
   "metadata": {
    "collapsed": true
   },
   "outputs": [],
   "source": []
  }
 ],
 "metadata": {
  "anaconda-cloud": {},
  "kernelspec": {
   "display_name": "Python [default]",
   "language": "python",
   "name": "python3"
  },
  "language_info": {
   "codemirror_mode": {
    "name": "ipython",
    "version": 3
   },
   "file_extension": ".py",
   "mimetype": "text/x-python",
   "name": "python",
   "nbconvert_exporter": "python",
   "pygments_lexer": "ipython3",
   "version": "3.5.2"
  }
 },
 "nbformat": 4,
 "nbformat_minor": 1
}
